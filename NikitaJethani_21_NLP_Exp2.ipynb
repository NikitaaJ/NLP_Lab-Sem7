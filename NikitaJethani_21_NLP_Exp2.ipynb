{
 "cells": [
  {
   "cell_type": "code",
   "execution_count": null,
   "metadata": {
    "colab": {
     "base_uri": "https://localhost:8080/"
    },
    "id": "JJMmzbVjkpWE",
    "outputId": "ebcc4080-4ebb-4bff-fabe-357c975fda93"
   },
   "outputs": [
    {
     "name": "stdout",
     "output_type": "stream",
     "text": [
      "Simple word tokenization: ['Tokenization', 'is', 'an', 'important', 'NLP', 'technique', 'It', 'breaks', 'text', 'into', 'smaller', 'units', 'like', 'words', 'or', 'sentences']\n"
     ]
    }
   ],
   "source": [
    "import re\n",
    "def word_tokenize(text):\n",
    "    tokens = re.findall(r'\\b\\w+\\b', text)\n",
    "    return tokens\n",
    "\n",
    "# Sample text\n",
    "text = \"Tokenization is an important NLP technique. It breaks text into smaller units, like words or sentences.\"\n",
    "\n",
    "# Using simple word tokenization\n",
    "words_simple = word_tokenize(text)\n",
    "print(\"Simple word tokenization:\", words_simple)"
   ]
  },
  {
   "cell_type": "code",
   "execution_count": null,
   "metadata": {
    "colab": {
     "base_uri": "https://localhost:8080/"
    },
    "id": "Kwgq_IiKktA0",
    "outputId": "23c21b76-6569-48dd-90de-f4c3c66f0d1b"
   },
   "outputs": [
    {
     "name": "stdout",
     "output_type": "stream",
     "text": [
      "Text with only Latin characters:   sample text  This contains both English and Hindi characters\n"
     ]
    }
   ],
   "source": [
    "def filter_non_latin(text):\n",
    "    latin_characters = set(\"ABCDEFGHIJKLMNOPQRSTUVWXYZabcdefghijklmnopqrstuvwxyz\")\n",
    "    filtered_text = ''.join([char for char in text if char in latin_characters or char.isspace()])\n",
    "    return filtered_text\n",
    "\n",
    "# Sample text with mixed scripts\n",
    "text = \"यह एक sample text है। This contains both English and Hindi characters.\"\n",
    "\n",
    "# Filter non-Latin characters\n",
    "latin_text = filter_non_latin(text)\n",
    "print(\"Text with only Latin characters:\", latin_text)"
   ]
  },
  {
   "cell_type": "code",
   "execution_count": null,
   "metadata": {
    "colab": {
     "base_uri": "https://localhost:8080/"
    },
    "id": "jAh08QRSkvuw",
    "outputId": "637ec596-1c8f-4953-96bd-b7d47f272256"
   },
   "outputs": [
    {
     "name": "stdout",
     "output_type": "stream",
     "text": [
      "Text without stop words: This sample text contains stop words.\n"
     ]
    }
   ],
   "source": [
    "def remove_stop_words(text, stop_words):\n",
    "    words = text.split()\n",
    "    filtered_words = [word for word in words if word.lower() not in stop_words]\n",
    "    filtered_text = ' '.join(filtered_words)\n",
    "    return filtered_text\n",
    "\n",
    "# Sample text\n",
    "text = \"This is a sample text that contains some stop words.\"\n",
    "\n",
    "# List of stop words to remove\n",
    "stop_words = [\"some\", \"the\", \"is\", \"a\", \"that\"]\n",
    "\n",
    "# Remove stop words\n",
    "text_without_stop_words = remove_stop_words(text, stop_words)\n",
    "print(\"Text without stop words:\", text_without_stop_words)"
   ]
  },
  {
   "cell_type": "code",
   "execution_count": null,
   "metadata": {
    "colab": {
     "base_uri": "https://localhost:8080/"
    },
    "id": "iIAzCBMNkzrC",
    "outputId": "0e7aa7f8-3ff2-4961-dbeb-8096f08114f7"
   },
   "outputs": [
    {
     "name": "stdout",
     "output_type": "stream",
     "text": [
      "Text without punctuation: Hello world This is an example text with some punctuation\n"
     ]
    }
   ],
   "source": [
    "import string\n",
    "\n",
    "def filter_punctuation(text):\n",
    "    # Remove punctuation marks using string.punctuation\n",
    "    filtered_text = ''.join([char for char in text if char not in string.punctuation])\n",
    "    return filtered_text\n",
    "\n",
    "# Sample text\n",
    "text = \"Hello, world! This is an example text, with some punctuation.\"\n",
    "\n",
    "# Filter punctuation\n",
    "text_without_punctuation = filter_punctuation(text)\n",
    "print(\"Text without punctuation:\", text_without_punctuation)"
   ]
  },
  {
   "cell_type": "code",
   "execution_count": null,
   "metadata": {
    "colab": {
     "base_uri": "https://localhost:8080/"
    },
    "id": "zBj_jo-ok2G2",
    "outputId": "8a3a83ec-60bf-4f38-9fb0-43df0c4f4917"
   },
   "outputs": [
    {
     "name": "stdout",
     "output_type": "stream",
     "text": [
      "Valid email addresses: ['2020.madhusudhana.naidu@gmail.com', '2020.harshita.anala@ves.ac.in']\n"
     ]
    }
   ],
   "source": [
    "def validate_emails(text):\n",
    "    # Regular expression pattern for validating email addresses\n",
    "    email_pattern = r'\\b[A-Za-z0-9._%+-]+@[A-Za-z0-9.-]+\\.[A-Z|a-z]{2,7}\\b'\n",
    "\n",
    "    # Find all email addresses in the text\n",
    "    emails = re.findall(email_pattern, text)\n",
    "    return emails\n",
    "\n",
    "# Sample text\n",
    "text = \"Please contact 2020.madhusudhana.naidu@gmail.com or 2020.harshita.anala@ves.ac.in for assistance.\"\n",
    "\n",
    "# Validate email addresses\n",
    "valid_emails = validate_emails(text)\n",
    "print(\"Valid email addresses:\", valid_emails)\n"
   ]
  },
  {
   "cell_type": "code",
   "execution_count": null,
   "metadata": {
    "colab": {
     "base_uri": "https://localhost:8080/"
    },
    "id": "tpnjQiiUk441",
    "outputId": "d2cbf83b-1424-4504-c159-36dda799798e"
   },
   "outputs": [
    {
     "name": "stdout",
     "output_type": "stream",
     "text": [
      "Valid phone numbers: ['9321451547', '9967511212']\n"
     ]
    }
   ],
   "source": [
    "def validate_phone_numbers(text):\n",
    "    # Regular expression pattern for validating phone numbers\n",
    "    phone_pattern = r'\\b(?:\\+\\d{1,3}[- ]?)?\\d{10}\\b'\n",
    "\n",
    "    # Find all phone numbers in the text\n",
    "    phone_numbers = re.findall(phone_pattern, text)\n",
    "    return phone_numbers\n",
    "\n",
    "# Sample text\n",
    "text = \"Contact us at +91 9321451547  or 9967511212 for emergency.\"\n",
    "\n",
    "# Validate phone numbers\n",
    "valid_phone_numbers = validate_phone_numbers(text)\n",
    "print(\"Valid phone numbers:\", valid_phone_numbers)"
   ]
  }
 ],
 "metadata": {
  "colab": {
   "provenance": []
  },
  "kernelspec": {
   "display_name": "Python 3 (ipykernel)",
   "language": "python",
   "name": "python3"
  },
  "language_info": {
   "codemirror_mode": {
    "name": "ipython",
    "version": 3
   },
   "file_extension": ".py",
   "mimetype": "text/x-python",
   "name": "python",
   "nbconvert_exporter": "python",
   "pygments_lexer": "ipython3",
   "version": "3.9.13"
  }
 },
 "nbformat": 4,
 "nbformat_minor": 1
}
