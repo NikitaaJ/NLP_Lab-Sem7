{
 "cells": [
  {
   "cell_type": "code",
   "execution_count": 1,
   "metadata": {
    "colab": {
     "base_uri": "https://localhost:8080/"
    },
    "id": "Q4u1OrhxfkzB",
    "outputId": "dbf6dfef-3cf6-4c66-dd9f-a6ba9fc0f5f3"
   },
   "outputs": [
    {
     "name": "stderr",
     "output_type": "stream",
     "text": [
      "[nltk_data] Downloading package punkt to\n",
      "[nltk_data]     C:\\Users\\mannp\\AppData\\Roaming\\nltk_data...\n",
      "[nltk_data]   Package punkt is already up-to-date!\n",
      "[nltk_data] Downloading package averaged_perceptron_tagger to\n",
      "[nltk_data]     C:\\Users\\mannp\\AppData\\Roaming\\nltk_data...\n",
      "[nltk_data]   Package averaged_perceptron_tagger is already up-to-\n",
      "[nltk_data]       date!\n"
     ]
    },
    {
     "data": {
      "text/plain": [
       "True"
      ]
     },
     "execution_count": 1,
     "metadata": {},
     "output_type": "execute_result"
    }
   ],
   "source": [
    "import nltk\n",
    "nltk.download('punkt')\n",
    "nltk.download('averaged_perceptron_tagger')"
   ]
  },
  {
   "cell_type": "code",
   "execution_count": 2,
   "metadata": {
    "colab": {
     "base_uri": "https://localhost:8080/"
    },
    "id": "jjFVBv4WfrnJ",
    "outputId": "0b6cb1ed-2ee4-4e11-b5ea-ed6f51044e30"
   },
   "outputs": [
    {
     "name": "stdout",
     "output_type": "stream",
     "text": [
      "Enter a sentence:\tThis means that from October 23rd onwards, you may see an error message when trying to log into Canva unless your school’s IT administrator configures access for the account.\n"
     ]
    }
   ],
   "source": [
    "list =[]\n",
    "sentence1 = \"Natural Language Processing is a of computer science engineering information engineering and...\"\n",
    "sentence2 = \"Dear students, please refer to the attached link for implementing the mini project.\"\n",
    "sentence = input(\"Enter a sentence:\")\n",
    "list.append(sentence1)\n",
    "list.append(sentence2)\n",
    "list.append(sentence)"
   ]
  },
  {
   "cell_type": "code",
   "execution_count": 3,
   "metadata": {
    "colab": {
     "base_uri": "https://localhost:8080/"
    },
    "id": "plYm5JMOft10",
    "outputId": "d59f556e-f990-4bc1-f0b9-f55b5a07b38a"
   },
   "outputs": [
    {
     "name": "stdout",
     "output_type": "stream",
     "text": [
      "Natural Language Processing is a of computer science engineering information engineering and...\n",
      "['Natural', 'Language', 'Processing', 'is', 'a', 'of', 'computer', 'science', 'engineering', 'information', 'engineering', 'and', '...']\n",
      "[('Natural', 'JJ'), ('Language', 'NNP'), ('Processing', 'NNP'), ('is', 'VBZ'), ('a', 'DT'), ('of', 'IN'), ('computer', 'NN'), ('science', 'NN'), ('engineering', 'NN'), ('information', 'NN'), ('engineering', 'NN'), ('and', 'CC'), ('...', ':')]\n",
      "\n",
      "\n",
      "Dear students, please refer to the attached link for implementing the mini project.\n",
      "['Dear', 'students', ',', 'please', 'refer', 'to', 'the', 'attached', 'link', 'for', 'implementing', 'the', 'mini', 'project', '.']\n",
      "[('Dear', 'JJ'), ('students', 'NNS'), (',', ','), ('please', 'VB'), ('refer', 'NN'), ('to', 'TO'), ('the', 'DT'), ('attached', 'VBN'), ('link', 'NN'), ('for', 'IN'), ('implementing', 'VBG'), ('the', 'DT'), ('mini', 'NN'), ('project', 'NN'), ('.', '.')]\n",
      "\n",
      "\n",
      "\tThis means that from October 23rd onwards, you may see an error message when trying to log into Canva unless your school’s IT administrator configures access for the account.\n",
      "['This', 'means', 'that', 'from', 'October', '23rd', 'onwards', ',', 'you', 'may', 'see', 'an', 'error', 'message', 'when', 'trying', 'to', 'log', 'into', 'Canva', 'unless', 'your', 'school', '’', 's', 'IT', 'administrator', 'configures', 'access', 'for', 'the', 'account', '.']\n",
      "[('This', 'DT'), ('means', 'VBZ'), ('that', 'IN'), ('from', 'IN'), ('October', 'NNP'), ('23rd', 'CD'), ('onwards', 'NNS'), (',', ','), ('you', 'PRP'), ('may', 'MD'), ('see', 'VB'), ('an', 'DT'), ('error', 'NN'), ('message', 'NN'), ('when', 'WRB'), ('trying', 'VBG'), ('to', 'TO'), ('log', 'VB'), ('into', 'IN'), ('Canva', 'NNP'), ('unless', 'IN'), ('your', 'PRP$'), ('school', 'NN'), ('’', 'IN'), ('s', 'NN'), ('IT', 'NNP'), ('administrator', 'NN'), ('configures', 'VBZ'), ('access', 'NN'), ('for', 'IN'), ('the', 'DT'), ('account', 'NN'), ('.', '.')]\n",
      "\n",
      "\n"
     ]
    }
   ],
   "source": [
    "for sent in list:\n",
    "    tokens = nltk.word_tokenize(sent)\n",
    "    pos_tags = nltk.pos_tag(tokens)\n",
    "    print(sent)\n",
    "    print(tokens)\n",
    "    print(pos_tags)\n",
    "    print(\"\\n\")"
   ]
  }
 ],
 "metadata": {
  "colab": {
   "provenance": []
  },
  "kernelspec": {
   "display_name": "Python 3 (ipykernel)",
   "language": "python",
   "name": "python3"
  },
  "language_info": {
   "codemirror_mode": {
    "name": "ipython",
    "version": 3
   },
   "file_extension": ".py",
   "mimetype": "text/x-python",
   "name": "python",
   "nbconvert_exporter": "python",
   "pygments_lexer": "ipython3",
   "version": "3.9.13"
  }
 },
 "nbformat": 4,
 "nbformat_minor": 1
}
